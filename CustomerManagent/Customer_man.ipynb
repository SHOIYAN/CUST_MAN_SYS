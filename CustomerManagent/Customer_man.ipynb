{
 "cells": [
  {
   "cell_type": "markdown",
   "id": "8fa51eee",
   "metadata": {},
   "source": [
    "# CUSTOMER FEEDBACK MANAGEMENT SYSTEM\n",
    "\n",
    "**A comprehensive project in Data Collection and Analytics using Python.**\n",
    "\n",
    "This project primarily aims at collecting, storing, and analyzing customer feedback and providing detailed insights into them.\n",
    "\n",
    "---\n",
    "\n",
    "**BY:** Paul Kapolonto \n",
    "\n",
    "**Date:** 23rd July 2024"
   ]
  },
  {
   "cell_type": "code",
   "execution_count": 1,
   "id": "ead87362-c4aa-40d2-aa5b-0221ba0d7821",
   "metadata": {},
   "outputs": [
    {
     "name": "stdout",
     "output_type": "stream",
     "text": [
      "Enter the 1th customer’s name:  james\n",
      "Enter the 1th customer’s rating (1 - 5):  5\n",
      "Enter the 1th customer’s feedback:  dkjl;\n",
      "Enter the 2th customer’s name:  anne\n",
      "Enter the 2th customer’s rating (1 - 5):  5\n",
      "Enter the 2th customer’s feedback:  awful\n",
      "Enter the 3th customer’s name:  jane\n",
      "Enter the 3th customer’s rating (1 - 5):  3\n",
      "Enter the 3th customer’s feedback:  satisfactory service\n",
      "Enter the 4th customer’s name:  johnte\n",
      "Enter the 4th customer’s rating (1 - 5):  4\n",
      "Enter the 4th customer’s feedback:  good service\n",
      "Enter the 5th customer’s name:  mitchelle\n",
      "Enter the 5th customer’s rating (1 - 5):  5\n",
      "Enter the 5th customer’s feedback:  very good product\n"
     ]
    },
    {
     "name": "stdout",
     "output_type": "stream",
     "text": [
      "        Name  Rating              Feedback\n",
      "0      james       5                 dkjl;\n",
      "1       anne       5                 awful\n",
      "2       jane       3  satisfactory service\n",
      "3     johnte       4          good service\n",
      "4  mitchelle       5     very good product\n",
      "<class 'pandas.core.frame.DataFrame'>\n",
      "RangeIndex: 5 entries, 0 to 4\n",
      "Data columns (total 3 columns):\n",
      " #   Column    Non-Null Count  Dtype \n",
      "---  ------    --------------  ----- \n",
      " 0   Name      5 non-null      object\n",
      " 1   Rating    5 non-null      int64 \n",
      " 2   Feedback  5 non-null      object\n",
      "dtypes: int64(1), object(2)\n",
      "memory usage: 252.0+ bytes\n",
      "None\n",
      "Average Rating:  4.4\n",
      "Feedback Categories: ['Positive', 'Positive', 'Neutral', 'Positive', 'Positive']\n",
      "Count of 'service' in feedback 1: 0\n",
      "Count of 'service' in feedback 2: 0\n",
      "Count of 'service' in feedback 3: 1\n",
      "Count of 'service' in feedback 4: 1\n",
      "Count of 'service' in feedback 5: 0\n"
     ]
    }
   ],
   "source": [
    "import pandas as pd\n",
    "import csv\n",
    "\n",
    "# Initialize lists to store customer data\n",
    "names = []\n",
    "ratings = []\n",
    "feedbacks = []\n",
    "\n",
    "# Collect data for five customers using a loop\n",
    "for i in range(1, 6):\n",
    "    name = input(f\"Enter the {i}th customer’s name: \")\n",
    "    rating = int(input(f\"Enter the {i}th customer’s rating (1 - 5): \"))\n",
    "    feedback = input(f\"Enter the {i}th customer’s feedback: \")\n",
    "    names.append(name)\n",
    "    ratings.append(rating)\n",
    "    feedbacks.append(feedback)\n",
    "\n",
    "# Write data to CSV file\n",
    "with open('customer_feedback.csv', 'w', newline='') as file:\n",
    "    writer = csv.writer(file)\n",
    "    writer.writerow([\"Name\", \"Rating\", \"Feedback\"])\n",
    "    for i in range(5):\n",
    "        writer.writerow([names[i], ratings[i], feedbacks[i]])\n",
    "\n",
    "# Read data from CSV file into DataFrame\n",
    "df = pd.read_csv('customer_feedback.csv')\n",
    "\n",
    "# Display the first few rows and info of the dataset\n",
    "print(df.head())\n",
    "print(df.info())\n",
    "\n",
    "# Calculating total and average rating\n",
    "total_ratings = df['Rating'].sum()\n",
    "average_rating = total_ratings / len(df)\n",
    "print(\"Average Rating: \", average_rating)\n",
    "\n",
    "# Categorize feedback\n",
    "feedback_categories = []\n",
    "for i in range(5):\n",
    "    if ratings[i] >= 5 and \"excellent\" in feedbacks[i].lower():\n",
    "        category = \"Very Positive\"\n",
    "    elif ratings[i] >= 4:\n",
    "        category = \"Positive\"\n",
    "    elif ratings[i] == 3:\n",
    "        category = \"Neutral\"\n",
    "    else:\n",
    "        category = \"Negative\"\n",
    "    feedback_categories.append(category)\n",
    "\n",
    "print(\"Feedback Categories:\", feedback_categories)\n",
    "\n",
    "# Analyzing feedback comments\n",
    "word_to_count = \"service\"\n",
    "for i in range(5):\n",
    "    feedback_words = feedbacks[i].lower().split()\n",
    "    word_count = feedback_words.count(word_to_count)\n",
    "    print(f\"Count of '{word_to_count}' in feedback {i+1}:\", word_count)\n"
   ]
  },
  {
   "cell_type": "markdown",
   "id": "9460f940",
   "metadata": {},
   "source": []
  },
  {
   "cell_type": "code",
   "execution_count": null,
   "id": "6e16b66f-0e4c-4125-8121-55589afff470",
   "metadata": {},
   "outputs": [],
   "source": []
  }
 ],
 "metadata": {
  "kernelspec": {
   "display_name": "Python 3 (ipykernel)",
   "language": "python",
   "name": "python3"
  },
  "language_info": {
   "codemirror_mode": {
    "name": "ipython",
    "version": 3
   },
   "file_extension": ".py",
   "mimetype": "text/x-python",
   "name": "python",
   "nbconvert_exporter": "python",
   "pygments_lexer": "ipython3",
   "version": "3.12.3"
  }
 },
 "nbformat": 4,
 "nbformat_minor": 5
}
