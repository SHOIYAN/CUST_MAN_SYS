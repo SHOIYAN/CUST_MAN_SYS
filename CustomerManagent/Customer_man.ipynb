{
 "cells": [
  {
   "cell_type": "markdown",
   "id": "8fa51eee",
   "metadata": {},
   "source": [
    "# CUSTOMER FEEDBACK MANAGEMENT SYSTEM\n",
    "\n",
    "**A comprehensive project in Data Collection and Analytics using Python.**\n",
    "\n",
    "This project primarily aims at collecting, storing, and analyzing customer feedback and providing detailed insights into them.\n",
    "\n",
    "---\n",
    "\n",
    "**BY:** Paul Kapolonto \n",
    "\n",
    "**Date:** 23rd July 2024"
   ]
  },
  {
   "cell_type": "code",
   "execution_count": 2,
   "id": "e8f128ce-832f-4b62-a41a-83f7c7a3520a",
   "metadata": {},
   "outputs": [],
   "source": [
    "import pandas as pd\n",
    "import csv\n",
    "\n",
    "# Initialize lists to store customer data\n",
    "names = []\n",
    "ratings = []\n",
    "feedbacks = []"
   ]
  },
  {
   "cell_type": "code",
   "execution_count": 4,
   "id": "c77fd570-413b-49ad-b7d7-e16ab6cace76",
   "metadata": {},
   "outputs": [
    {
     "name": "stdin",
     "output_type": "stream",
     "text": [
      "Enter the 1th customer’s name:  james\n",
      "Enter the 1th customer’s rating (1 - 5):  5\n",
      "Enter the 1th customer’s feedback:  Excellent Service\n",
      "Enter the 2th customer’s name:  anne\n",
      "Enter the 2th customer’s rating (1 - 5):  5\n",
      "Enter the 2th customer’s feedback:  Good Product\n",
      "Enter the 3th customer’s name:  jane\n",
      "Enter the 3th customer’s rating (1 - 5):  3\n",
      "Enter the 3th customer’s feedback:  Satisfactory service\n",
      "Enter the 4th customer’s name:  johnte\n",
      "Enter the 4th customer’s rating (1 - 5):  4\n",
      "Enter the 4th customer’s feedback:  Good service\n",
      "Enter the 5th customer’s name:  mitchelle\n",
      "Enter the 5th customer’s rating (1 - 5):  5\n",
      "Enter the 5th customer’s feedback:  Very good product\n"
     ]
    }
   ],
   "source": []
  },
  {
   "cell_type": "code",
   "execution_count": 5,
   "id": "a1265a83-585c-40f0-b175-a1730cbf6e05",
   "metadata": {},
   "outputs": [],
   "source": [
    "# Write data to CSV file\n",
    "with open('customer_feedback.csv', 'w', newline='') as file:\n",
    "    writer = csv.writer(file)\n",
    "    writer.writerow([\"Name\", \"Rating\", \"Feedback\"])\n",
    "    for i in range(5):\n",
    "        writer.writerow([names[i], ratings[i], feedbacks[i]])"
   ]
  },
  {
   "cell_type": "code",
   "execution_count": 6,
   "id": "730aaf72-2935-4cd5-929d-d1d7f145a753",
   "metadata": {},
   "outputs": [
    {
     "name": "stdout",
     "output_type": "stream",
     "text": [
      "        Name  Rating              Feedback\n",
      "0      james       5     Excellent Service\n",
      "1       anne       5          Good Product\n",
      "2       jane       3  Satisfactory service\n",
      "3  mitchelle       5     Very good product\n",
      "4     johnte       4          Good service\n",
      "<class 'pandas.core.frame.DataFrame'>\n",
      "RangeIndex: 5 entries, 0 to 4\n",
      "Data columns (total 3 columns):\n",
      " #   Column    Non-Null Count  Dtype \n",
      "---  ------    --------------  ----- \n",
      " 0   Name      5 non-null      object\n",
      " 1   Rating    5 non-null      int64 \n",
      " 2   Feedback  5 non-null      object\n",
      "dtypes: int64(1), object(2)\n",
      "memory usage: 252.0+ bytes\n",
      "None\n"
     ]
    }
   ],
   "source": [
    "# Read data from CSV file into DataFrame\n",
    "df = pd.read_csv('customer_feedback.csv')\n",
    "\n",
    "# Display the first few rows and info of the dataset\n",
    "print(df.head())\n",
    "print(df.info())"
   ]
  },
  {
   "cell_type": "code",
   "execution_count": 7,
   "id": "dd8073e0-751a-44c1-a37a-cee209a3bf9e",
   "metadata": {},
   "outputs": [
    {
     "name": "stdout",
     "output_type": "stream",
     "text": [
      "Average Rating:  4.4\n"
     ]
    }
   ],
   "source": [
    "# Calculating total and average rating\n",
    "total_ratings = df['Rating'].sum()\n",
    "average_rating = total_ratings / len(df)\n",
    "print(\"Average Rating: \", average_rating)"
   ]
  },
  {
   "cell_type": "code",
   "execution_count": 8,
   "id": "c24e2066-70f1-48b0-a0c7-7fb6bf1e3bbd",
   "metadata": {},
   "outputs": [
    {
     "name": "stdout",
     "output_type": "stream",
     "text": [
      "Feedback Categories: ['Very Positive', 'Positive', 'Neutral', 'Positive', 'Positive']\n"
     ]
    }
   ],
   "source": [
    "# Categorize feedback\n",
    "feedback_categories = []\n",
    "for i in range(5):\n",
    "    if ratings[i] >= 5 and \"excellent\" in feedbacks[i].lower():\n",
    "        category = \"Very Positive\"\n",
    "    elif ratings[i] >= 4:\n",
    "        category = \"Positive\"\n",
    "    elif ratings[i] == 3:\n",
    "        category = \"Neutral\"\n",
    "    else:\n",
    "        category = \"Negative\"\n",
    "    feedback_categories.append(category)\n",
    "\n",
    "print(\"Feedback Categories:\", feedback_categories)"
   ]
  },
  {
   "cell_type": "code",
   "execution_count": 9,
   "id": "7d44ba37-32a7-4352-9242-d8f3a49800c2",
   "metadata": {},
   "outputs": [
    {
     "name": "stdout",
     "output_type": "stream",
     "text": [
      "Count of 'service' in feedback 1: 1\n",
      "Count of 'service' in feedback 2: 0\n",
      "Count of 'service' in feedback 3: 1\n",
      "Count of 'service' in feedback 4: 0\n",
      "Count of 'service' in feedback 5: 1\n"
     ]
    }
   ],
   "source": [
    "# Analyzing feedback comments\n",
    "word_to_count = \"service\"\n",
    "for i in range(5):\n",
    "    feedback_words = feedbacks[i].lower().split()\n",
    "    word_count = feedback_words.count(word_to_count)\n",
    "    print(f\"Count of '{word_to_count}' in feedback {i+1}:\", word_count)"
   ]
  }
 ],
 "metadata": {
  "kernelspec": {
   "display_name": "Python 3 (ipykernel)",
   "language": "python",
   "name": "python3"
  },
  "language_info": {
   "codemirror_mode": {
    "name": "ipython",
    "version": 3
   },
   "file_extension": ".py",
   "mimetype": "text/x-python",
   "name": "python",
   "nbconvert_exporter": "python",
   "pygments_lexer": "ipython3",
   "version": "3.12.3"
  }
 },
 "nbformat": 4,
 "nbformat_minor": 5
}
