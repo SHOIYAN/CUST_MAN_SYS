{
 "cells": [
  {
   "cell_type": "markdown",
   "id": "c8bab273-83a9-43fa-aba6-cd221062af1b",
   "metadata": {},
   "source": [
    "# CUSTOMER FEEDBACK MANAGEMENT SYSTEM\n",
    "\n",
    "**A comprehensive project in Data Collection and Analytics using Python.**\n",
    "\n",
    "This project primarily aims at collecting, storing, and analyzing customer feedback and providing detailed insights into them.\n",
    "\n",
    "---\n",
    "\n",
    "**BY:** Paul Kapolonto \n",
    "\n",
    "**Date:** 23rd July 2024\n",
    "     \n",
    "                            "
   ]
  },
  {
   "cell_type": "markdown",
   "id": "e2376442-8f06-4909-b6df-b0788e8d851b",
   "metadata": {},
   "source": [
    "**Imports**"
   ]
  },
  {
   "cell_type": "code",
   "execution_count": null,
   "id": "7a56a0b9-dc99-450c-89bd-0afca057bf62",
   "metadata": {},
   "outputs": [],
   "source": [
    "\n",
    "import pandas as pd\n",
    "import csv"
   ]
  },
  {
   "cell_type": "markdown",
   "id": "135437fd-b2eb-4de6-b5bd-f1fbebf3a22b",
   "metadata": {},
   "source": [
    "**Collect data from customers**"
   ]
  },
  {
   "cell_type": "code",
   "execution_count": null,
   "id": "3caf1f2e-b9c5-495b-b3d3-c65ae66b2099",
   "metadata": {},
   "outputs": [],
   "source": [
    "# Collect data for the first customer\n",
    "customer_name1 = input(\"Enter the first customer’s name: \")\n",
    "customer_rating1 = int(input(\"Enter the first customer’s rating (1 - 5): \"))\n",
    "customer_feedback1 = input(\"Enter the first customer’s feedback: \")\n",
    "\n",
    "# Collect data for the second customer\n",
    "customer_name2 = input(\"Enter the second customer’s name: \")\n",
    "customer_rating2 = int(input(\"Enter the second customer’s rating (1 - 5): \"))\n",
    "customer_feedback2 = input(\"Enter the second customer’s feedback: \")\n",
    "\n",
    "# Collect data for the third customer\n",
    "customer_name3 = input(\"Enter the third customer’s name: \")\n",
    "customer_rating3 = int(input(\"Enter the third customer’s rating (1 - 5): \"))\n",
    "customer_feedback3 = input(\"Enter the third customer’s feedback: \")\n",
    "\n",
    "# Collect data for the fourth customer\n",
    "customer_name4 = input(\"Enter the fourth customer’s name: \")\n",
    "customer_rating4 = int(input(\"Enter the fourth customer’s rating (1 - 5): \"))\n",
    "customer_feedback4 = input(\"Enter the fourth customer’s feedback: \")\n",
    "\n",
    "# Collect data for the fifth customer\n",
    "customer_name5 = input(\"Enter the fifth customer’s name: \")\n",
    "customer_rating5 = int(input(\"Enter the fifth customer’s rating (1 - 5): \"))\n",
    "customer_feedback5 = input(\"Enter the fifth customer’s feedback: \")"
   ]
  },
  {
   "cell_type": "markdown",
   "id": "0662e60b-47b8-4f5c-98a5-7dbca1119e12",
   "metadata": {},
   "source": [
    "**Open the CSV file for writing**"
   ]
  },
  {
   "cell_type": "code",
   "execution_count": 4,
   "id": "921845c0-8916-4f2a-a0ee-370e6e76ceb2",
   "metadata": {},
   "outputs": [],
   "source": [
    "\n",
    "with open('customer_feedback.csv', 'w', newline='') as file:\n",
    "    writer = csv.writer(file)\n",
    "    \n",
    "    # Write the header row\n",
    "    writer.writerow([\"Name\", \"Rating\", \"Feedback\"])\n",
    "    \n",
    "    # Write each customer's data\n",
    "    writer.writerow([customer_name1, customer_rating1, customer_feedback1])\n",
    "    writer.writerow([customer_name2, customer_rating2, customer_feedback2])\n",
    "    writer.writerow([customer_name3, customer_rating3, customer_feedback3])\n",
    "    writer.writerow([customer_name4, customer_rating4, customer_feedback4])\n",
    "    writer.writerow([customer_name5, customer_rating5, customer_feedback5])"
   ]
  },
  {
   "cell_type": "markdown",
   "id": "f2a5ed02-b5a2-4809-b2c8-561229879516",
   "metadata": {},
   "source": [
    "**Reading the data from the CSV file**"
   ]
  },
  {
   "cell_type": "code",
   "execution_count": 6,
   "id": "5b687e0b-01ad-4f03-b10f-de2776a64cc9",
   "metadata": {},
   "outputs": [],
   "source": [
    "\n",
    "df = pd.read_csv('customer_feedback.csv')"
   ]
  },
  {
   "cell_type": "markdown",
   "id": "c2e4a565-6cf8-4c44-bfeb-74f63cab496e",
   "metadata": {},
   "source": [
    "**Displaying the collected feedback**"
   ]
  },
  {
   "cell_type": "code",
   "execution_count": 10,
   "id": "126eeea0-8372-40d5-968b-696e8a0a9659",
   "metadata": {},
   "outputs": [
    {
     "data": {
      "text/html": [
       "<div>\n",
       "<style scoped>\n",
       "    .dataframe tbody tr th:only-of-type {\n",
       "        vertical-align: middle;\n",
       "    }\n",
       "\n",
       "    .dataframe tbody tr th {\n",
       "        vertical-align: top;\n",
       "    }\n",
       "\n",
       "    .dataframe thead th {\n",
       "        text-align: right;\n",
       "    }\n",
       "</style>\n",
       "<table border=\"1\" class=\"dataframe\">\n",
       "  <thead>\n",
       "    <tr style=\"text-align: right;\">\n",
       "      <th></th>\n",
       "      <th>Name</th>\n",
       "      <th>Rating</th>\n",
       "      <th>Feedback</th>\n",
       "    </tr>\n",
       "  </thead>\n",
       "  <tbody>\n",
       "    <tr>\n",
       "      <th>0</th>\n",
       "      <td>James</td>\n",
       "      <td>4</td>\n",
       "      <td>Excellent service</td>\n",
       "    </tr>\n",
       "    <tr>\n",
       "      <th>1</th>\n",
       "      <td>Anne</td>\n",
       "      <td>5</td>\n",
       "      <td>Great quality</td>\n",
       "    </tr>\n",
       "    <tr>\n",
       "      <th>2</th>\n",
       "      <td>Samuel</td>\n",
       "      <td>3</td>\n",
       "      <td>Satisfactory product</td>\n",
       "    </tr>\n",
       "    <tr>\n",
       "      <th>3</th>\n",
       "      <td>Amie</td>\n",
       "      <td>4</td>\n",
       "      <td>Very satisfied</td>\n",
       "    </tr>\n",
       "    <tr>\n",
       "      <th>4</th>\n",
       "      <td>Farouk</td>\n",
       "      <td>5</td>\n",
       "      <td>Excellent service</td>\n",
       "    </tr>\n",
       "  </tbody>\n",
       "</table>\n",
       "</div>"
      ],
      "text/plain": [
       "     Name  Rating              Feedback\n",
       "0   James       4     Excellent service\n",
       "1    Anne       5         Great quality\n",
       "2  Samuel       3  Satisfactory product\n",
       "3    Amie       4        Very satisfied\n",
       "4  Farouk       5     Excellent service"
      ]
     },
     "execution_count": 10,
     "metadata": {},
     "output_type": "execute_result"
    }
   ],
   "source": [
    "\n",
    "(df)\n",
    "# Display the first few rows of the dataset\n",
    "(df.head())"
   ]
  },
  {
   "cell_type": "markdown",
   "id": "c749103d-2855-4994-b4e9-15eabc627f27",
   "metadata": {},
   "source": [
    "**Display the info of the dataset**"
   ]
  },
  {
   "cell_type": "code",
   "execution_count": 11,
   "id": "1c9e27b9-ebf8-4c83-a3b0-877461bd2b75",
   "metadata": {},
   "outputs": [
    {
     "name": "stdout",
     "output_type": "stream",
     "text": [
      "<class 'pandas.core.frame.DataFrame'>\n",
      "RangeIndex: 5 entries, 0 to 4\n",
      "Data columns (total 3 columns):\n",
      " #   Column    Non-Null Count  Dtype \n",
      "---  ------    --------------  ----- \n",
      " 0   Name      5 non-null      object\n",
      " 1   Rating    5 non-null      int64 \n",
      " 2   Feedback  5 non-null      object\n",
      "dtypes: int64(1), object(2)\n",
      "memory usage: 252.0+ bytes\n"
     ]
    }
   ],
   "source": [
    "\n",
    "(df.info())"
   ]
  },
  {
   "cell_type": "markdown",
   "id": "ee50570b-aa56-4385-9bbc-842467cfe7fb",
   "metadata": {},
   "source": [
    "**Using the code to perform basic data analysis**"
   ]
  },
  {
   "cell_type": "code",
   "execution_count": 12,
   "id": "e8a13f9f-020a-4056-9f98-43d17fbb4098",
   "metadata": {},
   "outputs": [
    {
     "name": "stdout",
     "output_type": "stream",
     "text": [
      "Average Rating:  4.2\n"
     ]
    }
   ],
   "source": [
    "\n",
    "# Calculating total and average rating\n",
    "total_ratings = df['Rating'].sum()\n",
    "average_rating = total_ratings / len(df)\n",
    "print(\"Average Rating: \", average_rating)"
   ]
  },
  {
   "cell_type": "markdown",
   "id": "a5f3e14a-f383-4de7-b2ef-13940285fe82",
   "metadata": {},
   "source": [
    "**Categorizing feedback for customers**"
   ]
  },
  {
   "cell_type": "code",
   "execution_count": 13,
   "id": "e4dc3505-e6e5-442e-a5ee-fbe9bd94b8a8",
   "metadata": {},
   "outputs": [],
   "source": [
    "# Categorizing feedback for the first customer\n",
    "if customer_rating1 >= 5 and \"excellent\" in customer_feedback1.lower():\n",
    "    feedback_category1 = \"Very Positive\"\n",
    "elif customer_rating1 >= 4:\n",
    "    feedback_category1 = \"Positive\"\n",
    "elif customer_rating1 == 3:\n",
    "    feedback_category1 = \"Neutral\"\n",
    "else:\n",
    "    feedback_category1 = \"Negative\"\n",
    "    \n",
    "# Categorizing feedback for the second customer\n",
    "if customer_rating2 >= 5 and \"excellent\" in customer_feedback2.lower():\n",
    "    feedback_category2 = \"Very Positive\" \n",
    "elif customer_rating2 >= 4:\n",
    "    feedback_category2 = \"Positive\"\n",
    "elif customer_rating2 == 3:\n",
    "    feedback_category2 = \"Neutral\"\n",
    "else:\n",
    "    feedback_category2 = \"Negative\"\n",
    "    \n",
    "# Categorizing feedback for the third customer\n",
    "if customer_rating3 >= 5 and \"excellent\" in customer_feedback3.lower():\n",
    "    feedback_category3 = \"Very Positive\"\n",
    "elif customer_rating3 >= 4:\n",
    "    feedback_category3 = \"Positive\"\n",
    "elif customer_rating3 == 3:\n",
    "    feedback_category3 = \"Neutral\"\n",
    "else:\n",
    "    feedback_category3 = \"Negative\"\n",
    "    \n",
    "# Categorizing feedback for the fourth customer\n",
    "if customer_rating4 >= 5 and \"excellent\" in customer_feedback4.lower():\n",
    "    feedback_category4 = \"Very Positive\"\n",
    "elif customer_rating4 >= 4:\n",
    "    feedback_category4 = \"Positive\"\n",
    "elif customer_rating4 == 3:\n",
    "    feedback_category4 = \"Neutral\"\n",
    "else:\n",
    "    feedback_category4 = \"Negative\"\n",
    "\n",
    "# Categorizing feedback for the fifth customer\n",
    "if customer_rating5 >= 5 and \"excellent\" in customer_feedback5.lower():\n",
    "    feedback_category5 = \"Very Positive\"\n",
    "elif customer_rating5 >= 4:\n",
    "    feedback_category5 = \"Positive\"\n",
    "elif customer_rating5 == 3:\n",
    "    feedback_category5 = \"Neutral\"\n",
    "else:\n",
    "    feedback_category5 = \"Negative\""
   ]
  },
  {
   "cell_type": "code",
   "execution_count": 14,
   "id": "ca7acb48-2df8-4924-a829-ee7af4443ec8",
   "metadata": {},
   "outputs": [
    {
     "name": "stdout",
     "output_type": "stream",
     "text": [
      "Feedback Categories: ['Positive', 'Positive', 'Neutral', 'Positive', 'Very Positive']\n"
     ]
    }
   ],
   "source": [
    "feedback_categories = [feedback_category1, feedback_category2, feedback_category3, feedback_category4, feedback_category5]\n",
    "print(\"Feedback Categories:\", feedback_categories)"
   ]
  },
  {
   "cell_type": "markdown",
   "id": "c0559fe6-ac2f-4064-b984-bf44c255c578",
   "metadata": {},
   "source": [
    "**Analyzing feedback**"
   ]
  },
  {
   "cell_type": "code",
   "execution_count": 15,
   "id": "b3a5ae2e-a8bd-4ea3-909d-51b4514dbc6c",
   "metadata": {},
   "outputs": [
    {
     "name": "stdout",
     "output_type": "stream",
     "text": [
      "Count of 'service' in first feedback: 1\n",
      "Count of 'service' in second feedback: 0\n",
      "Count of 'service' in third feedback: 0\n",
      "Count of 'service' in fourth feedback: 0\n",
      "Count of 'service' in fifth feedback: 1\n"
     ]
    }
   ],
   "source": [
    "# Analyzing feedback comments\n",
    "feedback_words1 = customer_feedback1.lower().split()\n",
    "feedback_words2 = customer_feedback2.lower().split()\n",
    "feedback_words3 = customer_feedback3.lower().split()\n",
    "feedback_words4 = customer_feedback4.lower().split()\n",
    "feedback_words5 = customer_feedback5.lower().split()\n",
    "\n",
    "# Counting occurrences of a specific word\n",
    "word_to_count = \"service\"\n",
    "word_count1 = feedback_words1.count(word_to_count)\n",
    "word_count2 = feedback_words2.count(word_to_count)\n",
    "word_count3 = feedback_words3.count(word_to_count)\n",
    "word_count4 = feedback_words4.count(word_to_count)\n",
    "word_count5 = feedback_words5.count(word_to_count)\n",
    "\n",
    "print(f\"Count of '{word_to_count}' in first feedback:\", word_count1)\n",
    "print(f\"Count of '{word_to_count}' in second feedback:\", word_count2)\n",
    "print(f\"Count of '{word_to_count}' in third feedback:\", word_count3)\n",
    "print(f\"Count of '{word_to_count}' in fourth feedback:\", word_count4)\n",
    "print(f\"Count of '{word_to_count}' in fifth feedback:\", word_count5)"
   ]
  },
  {
   "cell_type": "code",
   "execution_count": null,
   "id": "d61130ae-16de-4ed9-ac65-47fa75e438e8",
   "metadata": {},
   "outputs": [],
   "source": []
  }
 ],
 "metadata": {
  "kernelspec": {
   "display_name": "Python 3 (ipykernel)",
   "language": "python",
   "name": "python3"
  },
  "language_info": {
   "codemirror_mode": {
    "name": "ipython",
    "version": 3
   },
   "file_extension": ".py",
   "mimetype": "text/x-python",
   "name": "python",
   "nbconvert_exporter": "python",
   "pygments_lexer": "ipython3",
   "version": "3.12.3"
  }
 },
 "nbformat": 4,
 "nbformat_minor": 5
}
