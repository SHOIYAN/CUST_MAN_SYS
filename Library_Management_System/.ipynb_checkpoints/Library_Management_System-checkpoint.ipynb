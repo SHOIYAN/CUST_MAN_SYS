{
 "cells": [
  {
   "cell_type": "markdown",
   "id": "3d6566b5-eb06-4e52-8641-51217973333a",
   "metadata": {},
   "source": [
    "                                                   LIBRARY MANAGEMENT SYSTEM\n",
    "This system streamlines library operations by managing book inventories and user interactions. It enables adding, searching, borrowing, and returning books through a user-friendly Python interface.\n",
    "\n",
    " Name: Paul Kapolonto\n",
    " \n",
    " Date: 27th July 2024"
   ]
  },
  {
   "cell_type": "markdown",
   "id": "5059d75e-8d92-466e-9476-21bda3b24a0a",
   "metadata": {},
   "source": [
    "**Import Libraries**"
   ]
  },
  {
   "cell_type": "code",
   "execution_count": 14,
   "id": "b12ddb47-8c8c-47d6-aab3-724932fb15cf",
   "metadata": {},
   "outputs": [],
   "source": [
    "import datetime"
   ]
  },
  {
   "cell_type": "markdown",
   "id": "20a61f4e-2168-4c26-8eb2-e59b69288ae8",
   "metadata": {},
   "source": [
    "**List of books in the Library**"
   ]
  },
  {
   "cell_type": "code",
   "execution_count": 15,
   "id": "2be72428-ccff-4495-8898-8e9ae9e7211e",
   "metadata": {},
   "outputs": [],
   "source": [
    "library_books = []"
   ]
  },
  {
   "cell_type": "markdown",
   "id": "d779f03f-b3d7-4895-b067-b5ae007011b5",
   "metadata": {},
   "source": [
    " **Dictionary to store borrowed books**"
   ]
  },
  {
   "cell_type": "code",
   "execution_count": 16,
   "id": "155d3b56-be0d-4b22-b230-35cc95284372",
   "metadata": {},
   "outputs": [],
   "source": [
    "borrowed_books = {}"
   ]
  },
  {
   "cell_type": "markdown",
   "id": "89437d2c-c65b-4b4f-8628-ea5531cdbac9",
   "metadata": {},
   "source": [
    "**List of Users**"
   ]
  },
  {
   "cell_type": "code",
   "execution_count": 17,
   "id": "2579b194-3fdc-4c77-a82e-9d30de84ed04",
   "metadata": {},
   "outputs": [],
   "source": [
    "users=[]"
   ]
  },
  {
   "cell_type": "markdown",
   "id": "a16b4361-50cd-4560-bba7-32377829f37c",
   "metadata": {},
   "source": [
    "**Function to add a new book to library**"
   ]
  },
  {
   "cell_type": "code",
   "execution_count": 18,
   "id": "f62e63f2-0170-45f8-96bf-28a4ea40c70f",
   "metadata": {},
   "outputs": [],
   "source": [
    "def add_book(book_id, title, author):\n",
    "    # Function to add a new book to the library\n",
    "    book = {\n",
    "        \"book_id\": book_id,\n",
    "        \"title\": title,\n",
    "        \"author\": author,\n",
    "        \"available\": True\n",
    "    }\n",
    "    library_books.append(book)  # Add the book to the library_books list\n",
    "    print(f\"Book '{title}' by {author} added to the library.\")\n"
   ]
  },
  {
   "cell_type": "markdown",
   "id": "243f22dd-4383-4d95-8ba8-ad9d27c3b73b",
   "metadata": {},
   "source": [
    "**Function to Search for a book**"
   ]
  },
  {
   "cell_type": "code",
   "execution_count": 19,
   "id": "714234ce-f3e6-4f0a-ab01-f1bf48400bb0",
   "metadata": {},
   "outputs": [],
   "source": [
    "def search_book(title):\n",
    "    # Search for books in the library that match the given title (case-insensitive)\n",
    "    found_books = [\n",
    "        book for book in library_books\n",
    "        if title.lower() in book['title'].lower()\n",
    "    ]\n",
    "    \n",
    "    # Iterate through the found books and print their details\n",
    "    if found_books:\n",
    "        for book in found_books:\n",
    "            status = \"Available\" if book['available'] else \"Borrowed\"\n",
    "            print(f\"ID: {book['book_id']}, Title: {book['title']}, Author: {book['author']}, Status: {status}\")\n",
    "    else:\n",
    "        print(\"No books found with that title.\")\n"
   ]
  },
  {
   "cell_type": "markdown",
   "id": "75f3cf61-4586-4700-aed5-50f5fc7be4d7",
   "metadata": {},
   "source": [
    "**Function to borrow a book**"
   ]
  },
  {
   "cell_type": "code",
   "execution_count": 20,
   "id": "5e43731a-a48c-4f11-8dda-e39b137cc68c",
   "metadata": {},
   "outputs": [],
   "source": [
    "def borrow_book(user, book_id):\n",
    "    # Check if the specified book is available and mark it as borrowed\n",
    "    for book in library_books:\n",
    "        if book['book_id'] == book_id and book['available']:\n",
    "            book['available'] = False  # Mark the book as unavailable\n",
    "            borrowed_books[book_id] = {\n",
    "                \"user\": user,\n",
    "                \"borrow_date\": datetime.date.today()  # Record the borrow date\n",
    "            }\n",
    "            print(f\"Book '{book['title']}' borrowed by {user}.\")\n",
    "            return\n",
    "    \n",
    "    print(\"Book not available or does not exist.\")\n"
   ]
  },
  {
   "cell_type": "markdown",
   "id": "18ab50bc-6afc-4e7b-8d86-6d824d36d4a0",
   "metadata": {},
   "source": [
    "**Function to return a book**"
   ]
  },
  {
   "cell_type": "code",
   "execution_count": 21,
   "id": "d4d3f3b9-8beb-43ac-835d-99e9311fe19e",
   "metadata": {},
   "outputs": [],
   "source": [
    "def return_book(book_id):\n",
    "    # Check if the book is in borrowed_books and mark it as available\n",
    "    if book_id in borrowed_books:\n",
    "        for book in library_books:\n",
    "            if book['book_id'] == book_id:\n",
    "                book['available'] = True  # Mark the book as available\n",
    "                borrowed_books.pop(book_id)  # Remove the book from borrowed_books\n",
    "                print(f\"Book '{book['title']}' returned.\")\n",
    "                return\n",
    "    print(\"Book not found in borrowed books.\")\n"
   ]
  },
  {
   "cell_type": "markdown",
   "id": "65a888c4-c3af-4cdc-bfa2-f3d88f170863",
   "metadata": {},
   "source": [
    "**Implement User Interaction**"
   ]
  },
  {
   "cell_type": "code",
   "execution_count": 23,
   "id": "69e62fd5-1b84-4381-9c41-9a6db5cc4996",
   "metadata": {},
   "outputs": [
    {
     "name": "stdout",
     "output_type": "stream",
     "text": [
      "\n",
      "Library Management System\n",
      "1. Add Book\n",
      "2. Search Book\n",
      "3. Borrow Book\n",
      "4. Return Book\n",
      "5. Exit\n"
     ]
    },
    {
     "name": "stdin",
     "output_type": "stream",
     "text": [
      "Enter your choice:  1\n",
      "Enter book ID:  001\n",
      "Enter book title:  The Great Gatsby\n",
      "Enter book author:  F. Scott Fitzgerald\n"
     ]
    },
    {
     "name": "stdout",
     "output_type": "stream",
     "text": [
      "Book 'The Great Gatsby' by F. Scott Fitzgerald added to the library.\n",
      "\n",
      "Library Management System\n",
      "1. Add Book\n",
      "2. Search Book\n",
      "3. Borrow Book\n",
      "4. Return Book\n",
      "5. Exit\n"
     ]
    },
    {
     "name": "stdin",
     "output_type": "stream",
     "text": [
      "Enter your choice:  2\n",
      "Enter book title to search:  Gatsby\n"
     ]
    },
    {
     "name": "stdout",
     "output_type": "stream",
     "text": [
      "ID: 001, Title: The Great Gatsby, Author: F. Scott Fitzgerald, Status: Available\n",
      "ID: 001, Title: The Great Gatsby, Author: F. Scott Fitzgerald, Status: Available\n",
      "\n",
      "Library Management System\n",
      "1. Add Book\n",
      "2. Search Book\n",
      "3. Borrow Book\n",
      "4. Return Book\n",
      "5. Exit\n"
     ]
    },
    {
     "name": "stdin",
     "output_type": "stream",
     "text": [
      "Enter your choice:  3\n",
      "Enter your name:  Ted\n",
      "Enter book ID to borrow:  001\n"
     ]
    },
    {
     "name": "stdout",
     "output_type": "stream",
     "text": [
      "Book 'The Great Gatsby' borrowed by Ted.\n",
      "\n",
      "Library Management System\n",
      "1. Add Book\n",
      "2. Search Book\n",
      "3. Borrow Book\n",
      "4. Return Book\n",
      "5. Exit\n"
     ]
    },
    {
     "name": "stdin",
     "output_type": "stream",
     "text": [
      "Enter your choice:  4\n",
      "Enter book ID to return:  001\n"
     ]
    },
    {
     "name": "stdout",
     "output_type": "stream",
     "text": [
      "Book 'The Great Gatsby' returned.\n",
      "\n",
      "Library Management System\n",
      "1. Add Book\n",
      "2. Search Book\n",
      "3. Borrow Book\n",
      "4. Return Book\n",
      "5. Exit\n"
     ]
    },
    {
     "name": "stdin",
     "output_type": "stream",
     "text": [
      "Enter your choice:  5\n"
     ]
    },
    {
     "name": "stdout",
     "output_type": "stream",
     "text": [
      "Exiting the system. Goodbye!\n"
     ]
    }
   ],
   "source": [
    "def main():\n",
    "    # Start an infinite loop for the library management system\n",
    "    while True:\n",
    "        print(\"\\nLibrary Management System\")\n",
    "        print(\"1. Add Book\")\n",
    "        print(\"2. Search Book\")\n",
    "        print(\"3. Borrow Book\")\n",
    "        print(\"4. Return Book\")\n",
    "        print(\"5. Exit\")\n",
    "        \n",
    "        choice = input(\"Enter your choice: \")\n",
    "        \n",
    "        # Handle user choices for library operations\n",
    "        if choice == '1':\n",
    "            book_id = input(\"Enter book ID: \")\n",
    "            title = input(\"Enter book title: \")\n",
    "            author = input(\"Enter book author: \")\n",
    "            add_book(book_id, title, author) \n",
    "        \n",
    "        elif choice == '2':\n",
    "            title = input(\"Enter book title to search: \")\n",
    "            search_book(title) \n",
    "        \n",
    "        elif choice == '3':\n",
    "            user = input(\"Enter your name: \")\n",
    "            book_id = input(\"Enter book ID to borrow: \")\n",
    "            borrow_book(user, book_id) \n",
    "        \n",
    "        elif choice == '4':\n",
    "            book_id = input(\"Enter book ID to return: \")\n",
    "            return_book(book_id) \n",
    "        \n",
    "        elif choice == '5':\n",
    "            print(\"Exiting the system. Goodbye!\")  \n",
    "            break \n",
    "        \n",
    "        else:\n",
    "            print(\"Invalid choice. Please try again.\") \n",
    "            \n",
    "#Start the Library_Management_System           \n",
    "main()\n"
   ]
  },
  {
   "cell_type": "code",
   "execution_count": null,
   "id": "5fd4613c-7d78-42bf-a306-1e21e7703073",
   "metadata": {},
   "outputs": [],
   "source": []
  }
 ],
 "metadata": {
  "kernelspec": {
   "display_name": "Python 3 (ipykernel)",
   "language": "python",
   "name": "python3"
  },
  "language_info": {
   "codemirror_mode": {
    "name": "ipython",
    "version": 3
   },
   "file_extension": ".py",
   "mimetype": "text/x-python",
   "name": "python",
   "nbconvert_exporter": "python",
   "pygments_lexer": "ipython3",
   "version": "3.12.3"
  }
 },
 "nbformat": 4,
 "nbformat_minor": 5
}
